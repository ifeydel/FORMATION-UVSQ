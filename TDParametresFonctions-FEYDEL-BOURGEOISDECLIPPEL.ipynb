{
 "cells": [
  {
   "cell_type": "raw",
   "metadata": {},
   "source": [
    "Proposé par valérie Bourgeois-De Clippel et Isabelle Feydel\n",
    "Introduction aux paramètres des fonctions : valeurs par défaut, listes"
   ]
  },
  {
   "cell_type": "markdown",
   "metadata": {},
   "source": [
    "# Paramètres d'une fonction"
   ]
  },
  {
   "cell_type": "markdown",
   "metadata": {},
   "source": [
    "## 1\\. Portée des variables - Nombres"
   ]
  },
  {
   "cell_type": "markdown",
   "metadata": {},
   "source": [
    "Que contient la variable $x$ après exécution du code pour chacun des exemples suivants ?"
   ]
  },
  {
   "cell_type": "markdown",
   "metadata": {},
   "source": [
    "### Exemple 1"
   ]
  },
  {
   "cell_type": "code",
   "execution_count": null,
   "metadata": {},
   "outputs": [],
   "source": [
    "def maFonction(x) :\n",
    "    x=3*x\n",
    "    \n",
    "x=4\n",
    "maFonction(x)"
   ]
  },
  {
   "cell_type": "markdown",
   "metadata": {},
   "source": [
    "### Exemple 2"
   ]
  },
  {
   "cell_type": "code",
   "execution_count": null,
   "metadata": {},
   "outputs": [],
   "source": [
    "def maFonction(x) :\n",
    "    return(3*x)\n",
    "    \n",
    "x=4\n",
    "maFonction(x)"
   ]
  },
  {
   "cell_type": "markdown",
   "metadata": {},
   "source": [
    "### Exemple 3"
   ]
  },
  {
   "cell_type": "code",
   "execution_count": null,
   "metadata": {},
   "outputs": [],
   "source": [
    "def maFonction(x) :\n",
    "    return(3*x)\n",
    "    \n",
    "x=4\n",
    "x=maFonction(x)"
   ]
  },
  {
   "cell_type": "markdown",
   "metadata": {},
   "source": [
    "### Exemple 4"
   ]
  },
  {
   "cell_type": "code",
   "execution_count": null,
   "metadata": {},
   "outputs": [],
   "source": [
    "def maFonction(maValeur) :\n",
    "    return(3*maValeur)\n",
    "    \n",
    "x=4\n",
    "x=maFonction(x)"
   ]
  },
  {
   "cell_type": "markdown",
   "metadata": {},
   "source": [
    "### Exemple 5"
   ]
  },
  {
   "cell_type": "code",
   "execution_count": null,
   "metadata": {},
   "outputs": [],
   "source": [
    "def maFonction(maValeur = -1) :\n",
    "    return(3*maValeur)   \n",
    "\n",
    "x=maFonction()\n",
    "x=4\n",
    "x=maFonction(x)"
   ]
  },
  {
   "cell_type": "markdown",
   "metadata": {},
   "source": [
    "### Exemple 6"
   ]
  },
  {
   "cell_type": "code",
   "execution_count": null,
   "metadata": {},
   "outputs": [],
   "source": [
    "def maFonction(x) :\n",
    "    return(3*x)\n",
    "\n",
    "x = -1\n",
    "maValeur = 10\n",
    "maValeur = maFonction(maValeur)\n",
    "print(x, maValeur)\n"
   ]
  },
  {
   "cell_type": "markdown",
   "metadata": {},
   "source": [
    "## 2\\. Portée des variables - Listes"
   ]
  },
  {
   "cell_type": "markdown",
   "metadata": {},
   "source": [
    "Que contient la variable $maListe$ après exécution du code pour chacun des exemples suivants ?"
   ]
  },
  {
   "cell_type": "markdown",
   "metadata": {},
   "source": [
    "### Exemple 1"
   ]
  },
  {
   "cell_type": "code",
   "execution_count": null,
   "metadata": {},
   "outputs": [],
   "source": [
    "def maFonction(x) :\n",
    "    x=3*x\n",
    "    \n",
    "maListe=[1,2,4]\n",
    "maFonction(maListe)\n",
    "print(maListe)"
   ]
  },
  {
   "cell_type": "markdown",
   "metadata": {},
   "source": [
    "### Exemple 2"
   ]
  },
  {
   "cell_type": "code",
   "execution_count": null,
   "metadata": {},
   "outputs": [],
   "source": [
    "def maFonction(x) :\n",
    "    return (3*x)\n",
    "    \n",
    "maListe=[1,2,4]\n",
    "maListe = maFonction(maListe)\n",
    "print(maListe)"
   ]
  },
  {
   "cell_type": "markdown",
   "metadata": {},
   "source": [
    "### Exemple 3"
   ]
  },
  {
   "cell_type": "code",
   "execution_count": 37,
   "metadata": {},
   "outputs": [
    {
     "name": "stdout",
     "output_type": "stream",
     "text": [
      "[4, 2, 0, 5]\n"
     ]
    }
   ],
   "source": [
    "def maFonction(maListe) :\n",
    "    maListe.append(5)\n",
    "    maListe = 3*maListe\n",
    "    \n",
    "maListe=[4,2,0]\n",
    "maFonction(maListe)\n",
    "print(maListe)"
   ]
  },
  {
   "cell_type": "markdown",
   "metadata": {},
   "source": [
    "### Exemple 4"
   ]
  },
  {
   "cell_type": "code",
   "execution_count": null,
   "metadata": {},
   "outputs": [],
   "source": [
    "def maFonction(maListe=[5 for i in range(3)]) :\n",
    "    maListe.append(2)\n",
    "    return(maListe)\n",
    "    \n",
    "#maListe=[6]\n",
    "maListe=maFonction()\n",
    "print(maListe)\n",
    "maListe=maFonction(maListe)\n",
    "print(maListe)"
   ]
  }
 ],
 "metadata": {
  "kernelspec": {
   "display_name": "Python 3",
   "language": "python",
   "name": "python3"
  },
  "language_info": {
   "codemirror_mode": {
    "name": "ipython",
    "version": 3
   },
   "file_extension": ".py",
   "mimetype": "text/x-python",
   "name": "python",
   "nbconvert_exporter": "python",
   "pygments_lexer": "ipython3",
   "version": "3.7.3"
  }
 },
 "nbformat": 4,
 "nbformat_minor": 2
}
